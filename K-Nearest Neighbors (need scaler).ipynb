{
 "cells": [
  {
   "cell_type": "markdown",
   "id": "42a0e5ca-4320-4c4a-848f-42f3d8792818",
   "metadata": {
    "tags": []
   },
   "source": [
    "# Finding an Observation’s Nearest Neighbors"
   ]
  },
  {
   "cell_type": "code",
   "execution_count": 144,
   "id": "bb01de08-03ba-43f7-b280-f7e980f8fe3c",
   "metadata": {},
   "outputs": [],
   "source": [
    "from sklearn.neighbors import NearestNeighbors \n",
    "from sklearn.datasets import load_iris\n",
    "from sklearn.preprocessing import StandardScaler\n",
    "import scipy as sp"
   ]
  },
  {
   "cell_type": "code",
   "execution_count": 150,
   "id": "2ff3c94f-77e1-4528-9e6f-fbe1d55bc2c9",
   "metadata": {},
   "outputs": [],
   "source": [
    "X = load_iris().data\n",
    "scaledX = StandardScaler().fit_transform(X) # the data needs to be scaled before using NearestNeighbors"
   ]
  },
  {
   "cell_type": "code",
   "execution_count": 5,
   "id": "79a42d4a-9cf6-4e2f-bc83-c0525c72f234",
   "metadata": {},
   "outputs": [],
   "source": [
    "nn = NearestNeighbors(n_neighbors=2) # metric = 'Manhattan', 'Euclidean', 'Minkowski'"
   ]
  },
  {
   "cell_type": "code",
   "execution_count": 10,
   "id": "27123833-b3e7-4324-b98d-ee333becbdfa",
   "metadata": {},
   "outputs": [],
   "source": [
    "ftnn = nn.fit(scaledX)"
   ]
  },
  {
   "cell_type": "code",
   "execution_count": 15,
   "id": "e23c613a-70c9-46a0-92cd-1be3f945954e",
   "metadata": {},
   "outputs": [],
   "source": [
    "ob = [[1,1,1,1]]"
   ]
  },
  {
   "cell_type": "code",
   "execution_count": 17,
   "id": "699fd5af-218d-4e55-a7b6-3c3b4ebb7e33",
   "metadata": {},
   "outputs": [],
   "source": [
    "distances, indix = ftnn.kneighbors(ob)"
   ]
  },
  {
   "cell_type": "code",
   "execution_count": 18,
   "id": "94c9a592-0b36-4fc7-bf98-4e37a957f04c",
   "metadata": {},
   "outputs": [
    {
     "data": {
      "text/plain": [
       "array([[[6.7, 3.3, 5.7, 2.1],\n",
       "        [6.5, 3.2, 5.1, 2. ]]])"
      ]
     },
     "execution_count": 18,
     "metadata": {},
     "output_type": "execute_result"
    }
   ],
   "source": [
    "X[indix] "
   ]
  },
  {
   "cell_type": "code",
   "execution_count": 19,
   "id": "f4ce9083-46ae-4c05-8724-0e6becb03e57",
   "metadata": {},
   "outputs": [
    {
     "data": {
      "text/plain": [
       "array([[0.49140089, 0.74294782]])"
      ]
     },
     "execution_count": 19,
     "metadata": {},
     "output_type": "execute_result"
    }
   ],
   "source": [
    "distances"
   ]
  },
  {
   "cell_type": "code",
   "execution_count": null,
   "id": "563006b7-1889-4fbc-b2c6-0963bccad69d",
   "metadata": {},
   "outputs": [],
   "source": []
  },
  {
   "cell_type": "code",
   "execution_count": 120,
   "id": "031860de-d81d-4603-b3eb-b32e419e35ea",
   "metadata": {},
   "outputs": [],
   "source": [
    "nn2 = NearestNeighbors(n_neighbors=3, metric='euclidean')"
   ]
  },
  {
   "cell_type": "code",
   "execution_count": 121,
   "id": "80b36e06-6047-433f-a1d0-a30addbae4af",
   "metadata": {},
   "outputs": [],
   "source": [
    "ftnn2 = nn2.fit(scaledX)"
   ]
  },
  {
   "cell_type": "code",
   "execution_count": 131,
   "id": "5ccc7344-858a-4f76-a694-c8f7ce553f3f",
   "metadata": {},
   "outputs": [],
   "source": [
    "distance1, index1 = ftnn2.kneighbors(X[2].reshape(1,4))"
   ]
  },
  {
   "cell_type": "code",
   "execution_count": 132,
   "id": "3e0c24ed-d20d-4a5e-b0c3-908cf3b63500",
   "metadata": {},
   "outputs": [
    {
     "data": {
      "text/plain": [
       "array([[131, 117, 109]])"
      ]
     },
     "execution_count": 132,
     "metadata": {},
     "output_type": "execute_result"
    }
   ],
   "source": [
    "index1"
   ]
  },
  {
   "cell_type": "code",
   "execution_count": 133,
   "id": "8e70837c-2336-42a4-8824-f0a26246da00",
   "metadata": {},
   "outputs": [],
   "source": [
    "graph = ftnn2.kneighbors_graph(X).toarray() # sparse converted to array, use toarray()"
   ]
  },
  {
   "cell_type": "code",
   "execution_count": 134,
   "id": "c17984bf-3a94-454e-a225-d822a8b8eb23",
   "metadata": {},
   "outputs": [
    {
     "data": {
      "text/plain": [
       "(150, 4)"
      ]
     },
     "execution_count": 134,
     "metadata": {},
     "output_type": "execute_result"
    }
   ],
   "source": [
    "X.shape"
   ]
  },
  {
   "cell_type": "code",
   "execution_count": 135,
   "id": "c372caad-03c4-4d53-b814-713b63fbc727",
   "metadata": {},
   "outputs": [
    {
     "data": {
      "text/plain": [
       "(150, 150)"
      ]
     },
     "execution_count": 135,
     "metadata": {},
     "output_type": "execute_result"
    }
   ],
   "source": [
    "graph.shape"
   ]
  },
  {
   "cell_type": "code",
   "execution_count": 136,
   "id": "b30548d7-bc80-4322-87c1-d5425e443ba2",
   "metadata": {},
   "outputs": [],
   "source": [
    "for i, x in enumerate(graph):\n",
    "    x[i] = 0"
   ]
  },
  {
   "cell_type": "code",
   "execution_count": 141,
   "id": "9ab9b309-5711-4df0-899e-a0826a3c36bd",
   "metadata": {},
   "outputs": [
    {
     "data": {
      "text/plain": [
       "array([0., 0., 0., 0., 0., 0., 0., 0., 0., 0., 0., 0., 0., 0., 0., 0., 0.,\n",
       "       0., 0., 0., 0., 0., 0., 0., 0., 0., 0., 0., 0., 0., 0., 0., 0., 0.,\n",
       "       0., 0., 0., 0., 0., 0., 0., 0., 0., 0., 0., 0., 0., 0., 0., 0., 0.,\n",
       "       0., 0., 0., 0., 0., 0., 0., 0., 0., 0., 0., 0., 0., 0., 0., 0., 0.,\n",
       "       0., 0., 0., 0., 0., 0., 0., 0., 0., 0., 0., 0., 0., 0., 0., 0., 0.,\n",
       "       0., 0., 0., 0., 0., 0., 0., 0., 0., 0., 0., 0., 0., 0., 0., 0., 0.,\n",
       "       0., 0., 0., 0., 0., 0., 0., 1., 0., 0., 0., 0., 0., 0., 0., 1., 0.,\n",
       "       0., 0., 0., 0., 0., 0., 0., 0., 0., 0., 0., 0., 1., 0., 0., 0., 0.,\n",
       "       0., 0., 0., 0., 0., 0., 0., 0., 0., 0., 0., 0., 0., 0.])"
      ]
     },
     "execution_count": 141,
     "metadata": {},
     "output_type": "execute_result"
    }
   ],
   "source": [
    "graph[2]"
   ]
  },
  {
   "cell_type": "code",
   "execution_count": 149,
   "id": "9c1a36a4-77d1-4b2b-a916-a61a68bbf5bb",
   "metadata": {},
   "outputs": [
    {
     "name": "stdout",
     "output_type": "stream",
     "text": [
      "  (0, 109)\t1.0\n",
      "  (0, 117)\t1.0\n",
      "  (0, 131)\t1.0\n"
     ]
    }
   ],
   "source": [
    "print(sp.sparse.csr_matrix(graph[2]))"
   ]
  },
  {
   "cell_type": "code",
   "execution_count": 292,
   "id": "f2fd2715-2b99-4e87-b874-1dfb34ddbd7d",
   "metadata": {},
   "outputs": [
    {
     "data": {
      "text/plain": [
       "{'algorithm': 'auto',\n",
       " 'leaf_size': 30,\n",
       " 'metric': 'euclidean',\n",
       " 'metric_params': None,\n",
       " 'n_jobs': None,\n",
       " 'n_neighbors': 3,\n",
       " 'p': 2,\n",
       " 'radius': 1.0}"
      ]
     },
     "execution_count": 292,
     "metadata": {},
     "output_type": "execute_result"
    }
   ],
   "source": [
    "ftnn2.get_params()"
   ]
  },
  {
   "cell_type": "code",
   "execution_count": 293,
   "id": "bba3ff38-75b3-4c07-99a0-7cb8594432a9",
   "metadata": {},
   "outputs": [
    {
     "data": {
      "text/plain": [
       "'euclidean'"
      ]
     },
     "execution_count": 293,
     "metadata": {},
     "output_type": "execute_result"
    }
   ],
   "source": [
    "ftnn2.effective_metric_"
   ]
  },
  {
   "cell_type": "code",
   "execution_count": 294,
   "id": "492d0e11-f7cd-4d51-a107-2ae16ffe603e",
   "metadata": {},
   "outputs": [
    {
     "data": {
      "text/plain": [
       "3"
      ]
     },
     "execution_count": 294,
     "metadata": {},
     "output_type": "execute_result"
    }
   ],
   "source": [
    "ftnn2.n_neighbors"
   ]
  },
  {
   "cell_type": "markdown",
   "id": "70cc50dd-acbd-42db-b084-cd8ef17c9968",
   "metadata": {},
   "source": [
    "# Creating a K-Nearest Neighbor Classifier"
   ]
  },
  {
   "cell_type": "code",
   "execution_count": 151,
   "id": "7364a549-8048-4f11-9fb8-7391ebd4bb5e",
   "metadata": {},
   "outputs": [],
   "source": [
    "features, target = load_iris().data, load_iris().target"
   ]
  },
  {
   "cell_type": "code",
   "execution_count": 155,
   "id": "7acbe5c3-03fb-4cd3-aadc-57538757d95f",
   "metadata": {},
   "outputs": [],
   "source": [
    "from sklearn.neighbors import KNeighborsClassifier"
   ]
  },
  {
   "cell_type": "code",
   "execution_count": 220,
   "id": "c67454fd-8c3a-4a65-a606-80dbc3679002",
   "metadata": {},
   "outputs": [],
   "source": [
    "clf = KNeighborsClassifier(n_neighbors=5, n_jobs=-1, metric='manhattan', weights='distance')"
   ]
  },
  {
   "cell_type": "code",
   "execution_count": 221,
   "id": "1a1f42bc-4474-42a1-b21b-2634f8b27ada",
   "metadata": {},
   "outputs": [],
   "source": [
    "scaled_features = StandardScaler().fit_transform(features)"
   ]
  },
  {
   "cell_type": "code",
   "execution_count": 222,
   "id": "0d25706a-8c25-4481-be54-1c9db79c4046",
   "metadata": {},
   "outputs": [],
   "source": [
    "ftclf = clf.fit(scaled_features, target)"
   ]
  },
  {
   "cell_type": "code",
   "execution_count": 223,
   "id": "e918b7d8-77a6-44ef-b919-c95ea274490c",
   "metadata": {},
   "outputs": [
    {
     "data": {
      "text/plain": [
       "array([2, 0])"
      ]
     },
     "execution_count": 223,
     "metadata": {},
     "output_type": "execute_result"
    }
   ],
   "source": [
    "ftclf.predict(scaled_features[[[134], [6]], :].reshape(2,4))"
   ]
  },
  {
   "cell_type": "code",
   "execution_count": 224,
   "id": "03910e84-15b2-42e8-97fd-e681f84bb721",
   "metadata": {},
   "outputs": [
    {
     "data": {
      "text/plain": [
       "(150, 4)"
      ]
     },
     "execution_count": 224,
     "metadata": {},
     "output_type": "execute_result"
    }
   ],
   "source": [
    "scaled_features.shape"
   ]
  },
  {
   "cell_type": "code",
   "execution_count": 225,
   "id": "1823ec2f-05db-4e35-91b8-ab632f965ec3",
   "metadata": {},
   "outputs": [
    {
     "data": {
      "text/plain": [
       "array([[0., 0., 1.],\n",
       "       [1., 0., 0.]])"
      ]
     },
     "execution_count": 225,
     "metadata": {},
     "output_type": "execute_result"
    }
   ],
   "source": [
    "ftclf.predict_proba(scaled_features[[[134], [6]], :].reshape(2,4))"
   ]
  },
  {
   "cell_type": "markdown",
   "id": "4a3416c3-4fad-480f-9b10-5fdb1c0f533e",
   "metadata": {},
   "source": [
    "# Identifying the Best Neighborhood Size"
   ]
  },
  {
   "cell_type": "code",
   "execution_count": 228,
   "id": "efb760c0-c8fd-4bad-8ab8-18c0906caf5a",
   "metadata": {},
   "outputs": [],
   "source": [
    "from sklearn.pipeline import Pipeline\n",
    "from sklearn.model_selection import GridSearchCV"
   ]
  },
  {
   "cell_type": "code",
   "execution_count": 231,
   "id": "d56554ce-cf22-4903-8d77-5db4f35470a9",
   "metadata": {},
   "outputs": [],
   "source": [
    "KNN = KNeighborsClassifier(n_neighbors=10, metric='manhattan', n_jobs=-1, weights='distance')"
   ]
  },
  {
   "cell_type": "code",
   "execution_count": 238,
   "id": "ec88b991-07c8-40a8-af6d-1107d6d911a5",
   "metadata": {},
   "outputs": [],
   "source": [
    "pipe = Pipeline([('std', StandardScaler()),('clf',KNN)])"
   ]
  },
  {
   "cell_type": "code",
   "execution_count": 241,
   "id": "f10da98b-a10c-4241-8e3e-dbfa0c1d1e50",
   "metadata": {},
   "outputs": [],
   "source": [
    "grid = GridSearchCV(pipe, {'clf__n_neighbors':[1,2,3,4,5,6,7,8,9,10]}, cv=5, verbose=0, scoring='accuracy')"
   ]
  },
  {
   "cell_type": "code",
   "execution_count": 243,
   "id": "331b6248-4de5-41d3-a058-9c2e3217245d",
   "metadata": {},
   "outputs": [],
   "source": [
    "ftgrid = grid.fit(load_iris().data, load_iris().target)"
   ]
  },
  {
   "cell_type": "code",
   "execution_count": 245,
   "id": "df0cfe2f-1f69-48f7-bf98-9f19a522c24a",
   "metadata": {},
   "outputs": [
    {
     "data": {
      "text/plain": [
       "3"
      ]
     },
     "execution_count": 245,
     "metadata": {},
     "output_type": "execute_result"
    }
   ],
   "source": [
    "ftgrid.best_estimator_.get_params()['clf__n_neighbors']"
   ]
  },
  {
   "cell_type": "code",
   "execution_count": 296,
   "id": "a46a1632-4982-4f4e-bf76-b3b0398982fd",
   "metadata": {},
   "outputs": [
    {
     "data": {
      "text/plain": [
       "0.9533333333333334"
      ]
     },
     "execution_count": 296,
     "metadata": {},
     "output_type": "execute_result"
    }
   ],
   "source": [
    "ftgrid.best_score_"
   ]
  },
  {
   "cell_type": "code",
   "execution_count": 297,
   "id": "775f6300-5400-4fbe-a85c-c3c8043e2ca8",
   "metadata": {},
   "outputs": [
    {
     "data": {
      "text/plain": [
       "2"
      ]
     },
     "execution_count": 297,
     "metadata": {},
     "output_type": "execute_result"
    }
   ],
   "source": [
    "ftgrid.best_index_"
   ]
  },
  {
   "cell_type": "code",
   "execution_count": 300,
   "id": "2479de82-9fc2-48f5-8ed1-40596b5e4919",
   "metadata": {},
   "outputs": [
    {
     "data": {
      "text/plain": [
       "{'mean_fit_time': array([0.00167327, 0.00183773, 0.00125666, 0.0011076 , 0.00099297,\n",
       "        0.00101786, 0.00094814, 0.00108266, 0.00106225, 0.00097542]),\n",
       " 'std_fit_time': array([1.85029002e-04, 4.15090649e-04, 1.83436745e-04, 1.26293416e-04,\n",
       "        3.94149684e-05, 1.69840226e-04, 1.99654172e-05, 1.13117996e-04,\n",
       "        2.02684041e-04, 6.53930313e-05]),\n",
       " 'mean_score_time': array([0.01038656, 0.00924029, 0.00703197, 0.00596385, 0.00586762,\n",
       "        0.00609579, 0.00590615, 0.00595994, 0.00577035, 0.00614848]),\n",
       " 'std_score_time': array([0.00203616, 0.00146477, 0.00097021, 0.00036978, 0.00023899,\n",
       "        0.00067541, 0.000444  , 0.00035159, 0.00020756, 0.00049247]),\n",
       " 'param_clf__n_neighbors': masked_array(data=[1, 2, 3, 4, 5, 6, 7, 8, 9, 10],\n",
       "              mask=[False, False, False, False, False, False, False, False,\n",
       "                    False, False],\n",
       "        fill_value='?',\n",
       "             dtype=object),\n",
       " 'params': [{'clf__n_neighbors': 1},\n",
       "  {'clf__n_neighbors': 2},\n",
       "  {'clf__n_neighbors': 3},\n",
       "  {'clf__n_neighbors': 4},\n",
       "  {'clf__n_neighbors': 5},\n",
       "  {'clf__n_neighbors': 6},\n",
       "  {'clf__n_neighbors': 7},\n",
       "  {'clf__n_neighbors': 8},\n",
       "  {'clf__n_neighbors': 9},\n",
       "  {'clf__n_neighbors': 10}],\n",
       " 'split0_test_score': array([0.93333333, 0.93333333, 0.96666667, 0.96666667, 0.96666667,\n",
       "        0.96666667, 0.96666667, 0.96666667, 0.96666667, 0.96666667]),\n",
       " 'split1_test_score': array([0.96666667, 0.96666667, 0.96666667, 0.96666667, 0.96666667,\n",
       "        0.96666667, 0.96666667, 0.96666667, 0.96666667, 0.96666667]),\n",
       " 'split2_test_score': array([0.93333333, 0.93333333, 0.9       , 0.9       , 0.9       ,\n",
       "        0.9       , 0.9       , 0.9       , 0.9       , 0.93333333]),\n",
       " 'split3_test_score': array([0.9       , 0.9       , 0.93333333, 0.9       , 0.9       ,\n",
       "        0.9       , 0.93333333, 0.9       , 0.9       , 0.9       ]),\n",
       " 'split4_test_score': array([0.96666667, 0.96666667, 1.        , 1.        , 1.        ,\n",
       "        1.        , 1.        , 1.        , 1.        , 1.        ]),\n",
       " 'mean_test_score': array([0.94      , 0.94      , 0.95333333, 0.94666667, 0.94666667,\n",
       "        0.94666667, 0.95333333, 0.94666667, 0.94666667, 0.95333333]),\n",
       " 'std_test_score': array([0.02494438, 0.02494438, 0.03399346, 0.04      , 0.04      ,\n",
       "        0.04      , 0.03399346, 0.04      , 0.04      , 0.03399346]),\n",
       " 'rank_test_score': array([9, 9, 1, 4, 4, 4, 1, 4, 4, 1], dtype=int32)}"
      ]
     },
     "execution_count": 300,
     "metadata": {},
     "output_type": "execute_result"
    }
   ],
   "source": [
    "ftgrid.cv_results_"
   ]
  },
  {
   "cell_type": "markdown",
   "id": "cf724ba5-f21b-4906-947b-044ea92e389f",
   "metadata": {
    "tags": []
   },
   "source": [
    "# Creating a Radius-Based Nearest Neighbor Classifier"
   ]
  },
  {
   "cell_type": "code",
   "execution_count": 249,
   "id": "1408648c-fab3-43be-8960-6c7c249fa912",
   "metadata": {},
   "outputs": [],
   "source": [
    "from sklearn.neighbors import RadiusNeighborsClassifier"
   ]
  },
  {
   "cell_type": "code",
   "execution_count": 255,
   "id": "38586ea2-f9a9-4183-91a2-f29c0d9a9435",
   "metadata": {},
   "outputs": [],
   "source": [
    "Rclf = RadiusNeighborsClassifier(radius=0.5, n_jobs=-1, outlier_label=1)"
   ]
  },
  {
   "cell_type": "code",
   "execution_count": 256,
   "id": "fc9a9a4f-8c17-46e7-b084-f88947e544e2",
   "metadata": {},
   "outputs": [],
   "source": [
    "fitRclf = Rclf.fit(scaled_features, target)"
   ]
  },
  {
   "cell_type": "code",
   "execution_count": 261,
   "id": "33549b2e-451a-4568-9cce-803067b75eff",
   "metadata": {},
   "outputs": [
    {
     "data": {
      "text/plain": [
       "array([2])"
      ]
     },
     "execution_count": 261,
     "metadata": {},
     "output_type": "execute_result"
    }
   ],
   "source": [
    "fitRclf.predict([[1,1,1,1]])"
   ]
  },
  {
   "cell_type": "code",
   "execution_count": 262,
   "id": "35f47c72-91bf-49ab-9811-41d5a42448ae",
   "metadata": {},
   "outputs": [
    {
     "data": {
      "text/plain": [
       "array([[0., 0., 1.]])"
      ]
     },
     "execution_count": 262,
     "metadata": {},
     "output_type": "execute_result"
    }
   ],
   "source": [
    "fitRclf.predict_proba([[1,1,1,1]])"
   ]
  },
  {
   "cell_type": "code",
   "execution_count": 263,
   "id": "ff418119-2c47-4188-93ce-7d16886c9e5b",
   "metadata": {},
   "outputs": [
    {
     "data": {
      "text/plain": [
       "array([0, 1, 2])"
      ]
     },
     "execution_count": 263,
     "metadata": {},
     "output_type": "execute_result"
    }
   ],
   "source": [
    "fitRclf.classes_"
   ]
  },
  {
   "cell_type": "code",
   "execution_count": 264,
   "id": "f6c8dd8b-1f85-4bfc-80c2-5f62dabc5fb4",
   "metadata": {},
   "outputs": [
    {
     "data": {
      "text/plain": [
       "'uniform'"
      ]
     },
     "execution_count": 264,
     "metadata": {},
     "output_type": "execute_result"
    }
   ],
   "source": [
    "fitRclf.weights"
   ]
  },
  {
   "cell_type": "code",
   "execution_count": 265,
   "id": "0c5f5c12-e566-4b52-9a47-85effe9ca25e",
   "metadata": {},
   "outputs": [
    {
     "data": {
      "text/plain": [
       "'euclidean'"
      ]
     },
     "execution_count": 265,
     "metadata": {},
     "output_type": "execute_result"
    }
   ],
   "source": [
    "fitRclf.effective_metric_"
   ]
  },
  {
   "cell_type": "code",
   "execution_count": 268,
   "id": "df54197c-3b2d-4503-a274-bd18bedc6198",
   "metadata": {},
   "outputs": [
    {
     "name": "stdout",
     "output_type": "stream",
     "text": [
      "None\n"
     ]
    }
   ],
   "source": [
    "print(fitRclf.metric_params)"
   ]
  },
  {
   "cell_type": "code",
   "execution_count": 276,
   "id": "c822f4dc-b82f-4f23-988e-9ff93963d8d9",
   "metadata": {},
   "outputs": [
    {
     "data": {
      "text/plain": [
       "0.5"
      ]
     },
     "execution_count": 276,
     "metadata": {},
     "output_type": "execute_result"
    }
   ],
   "source": [
    "fitRclf.radius"
   ]
  },
  {
   "cell_type": "code",
   "execution_count": 290,
   "id": "901ad45d-76ec-4f7e-b824-3a82072630cc",
   "metadata": {},
   "outputs": [
    {
     "data": {
      "text/plain": [
       "array([array([49,  7, 37, 11, 39, 40, 17, 26,  4, 27, 28,  0, 20, 36])],\n",
       "      dtype=object)"
      ]
     },
     "execution_count": 290,
     "metadata": {},
     "output_type": "execute_result"
    }
   ],
   "source": [
    "distance, index = fitRclf.radius_neighbors(scaled_features[0].reshape(1,4))\n",
    "index"
   ]
  },
  {
   "cell_type": "code",
   "execution_count": 287,
   "id": "6018844f-762b-44d7-ad1e-a496b74b0bea",
   "metadata": {},
   "outputs": [
    {
     "name": "stdout",
     "output_type": "stream",
     "text": [
      "  (0, 49)\t1.0\n",
      "  (0, 7)\t1.0\n",
      "  (0, 37)\t1.0\n",
      "  (0, 11)\t1.0\n",
      "  (0, 39)\t1.0\n",
      "  (0, 40)\t1.0\n",
      "  (0, 17)\t1.0\n",
      "  (0, 26)\t1.0\n",
      "  (0, 4)\t1.0\n",
      "  (0, 27)\t1.0\n",
      "  (0, 28)\t1.0\n",
      "  (0, 0)\t1.0\n",
      "  (0, 20)\t1.0\n",
      "  (0, 36)\t1.0\n"
     ]
    }
   ],
   "source": [
    "print(fitRclf.radius_neighbors_graph(scaled_features[0].reshape(1,4)))"
   ]
  },
  {
   "cell_type": "code",
   "execution_count": 295,
   "id": "9d94b910-8632-4e60-b0b0-66579fb1c692",
   "metadata": {},
   "outputs": [
    {
     "data": {
      "text/plain": [
       "[1]"
      ]
     },
     "execution_count": 295,
     "metadata": {},
     "output_type": "execute_result"
    }
   ],
   "source": [
    "fitRclf.outlier_label_"
   ]
  },
  {
   "cell_type": "code",
   "execution_count": null,
   "id": "87c98748-9bbe-49a5-8165-c5e293aa0ff8",
   "metadata": {},
   "outputs": [],
   "source": []
  }
 ],
 "metadata": {
  "kernelspec": {
   "display_name": "Python 3 (ipykernel)",
   "language": "python",
   "name": "python3"
  },
  "language_info": {
   "codemirror_mode": {
    "name": "ipython",
    "version": 3
   },
   "file_extension": ".py",
   "mimetype": "text/x-python",
   "name": "python",
   "nbconvert_exporter": "python",
   "pygments_lexer": "ipython3",
   "version": "3.9.7"
  }
 },
 "nbformat": 4,
 "nbformat_minor": 5
}
